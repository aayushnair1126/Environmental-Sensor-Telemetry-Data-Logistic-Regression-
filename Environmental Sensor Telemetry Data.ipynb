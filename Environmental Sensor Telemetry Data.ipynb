{
 "cells": [
  {
   "cell_type": "markdown",
   "metadata": {},
   "source": [
    "# This is Environmental Sensor Telemetry Data Dataset in which we are predicting the wheather there is a person or not of the Online using Logistic Regression\n",
    "\n"
   ]
  },
  {
   "cell_type": "markdown",
   "metadata": {},
   "source": [
    "# 1) Importing Libraries"
   ]
  },
  {
   "cell_type": "code",
   "execution_count": 1,
   "metadata": {},
   "outputs": [],
   "source": [
    "import numpy as np\n",
    "import pandas as pd \n",
    "import seaborn as sns \n",
    "import matplotlib.pyplot as plt\n",
    "from sklearn.linear_model import LogisticRegression \n",
    "from sklearn.preprocessing import LabelEncoder,OneHotEncoder\n",
    "from sklearn.model_selection import train_test_split\n",
    "from sklearn.metrics import accuracy_score,confusion_matrix"
   ]
  },
  {
   "cell_type": "markdown",
   "metadata": {},
   "source": [
    "# 2) Loading of dataset into Pandas DataFrame"
   ]
  },
  {
   "cell_type": "code",
   "execution_count": 2,
   "metadata": {},
   "outputs": [],
   "source": [
    "data = pd.read_csv('iot_telemetry_data.csv')"
   ]
  },
  {
   "cell_type": "code",
   "execution_count": 3,
   "metadata": {},
   "outputs": [
    {
     "data": {
      "text/html": [
       "<div>\n",
       "<style scoped>\n",
       "    .dataframe tbody tr th:only-of-type {\n",
       "        vertical-align: middle;\n",
       "    }\n",
       "\n",
       "    .dataframe tbody tr th {\n",
       "        vertical-align: top;\n",
       "    }\n",
       "\n",
       "    .dataframe thead th {\n",
       "        text-align: right;\n",
       "    }\n",
       "</style>\n",
       "<table border=\"1\" class=\"dataframe\">\n",
       "  <thead>\n",
       "    <tr style=\"text-align: right;\">\n",
       "      <th></th>\n",
       "      <th>ts</th>\n",
       "      <th>device</th>\n",
       "      <th>co</th>\n",
       "      <th>humidity</th>\n",
       "      <th>light</th>\n",
       "      <th>lpg</th>\n",
       "      <th>motion</th>\n",
       "      <th>smoke</th>\n",
       "      <th>temp</th>\n",
       "    </tr>\n",
       "  </thead>\n",
       "  <tbody>\n",
       "    <tr>\n",
       "      <th>0</th>\n",
       "      <td>1.594512e+09</td>\n",
       "      <td>b8:27:eb:bf:9d:51</td>\n",
       "      <td>0.004956</td>\n",
       "      <td>51.000000</td>\n",
       "      <td>False</td>\n",
       "      <td>0.007651</td>\n",
       "      <td>False</td>\n",
       "      <td>0.020411</td>\n",
       "      <td>22.700000</td>\n",
       "    </tr>\n",
       "    <tr>\n",
       "      <th>1</th>\n",
       "      <td>1.594512e+09</td>\n",
       "      <td>00:0f:00:70:91:0a</td>\n",
       "      <td>0.002840</td>\n",
       "      <td>76.000000</td>\n",
       "      <td>False</td>\n",
       "      <td>0.005114</td>\n",
       "      <td>False</td>\n",
       "      <td>0.013275</td>\n",
       "      <td>19.700001</td>\n",
       "    </tr>\n",
       "    <tr>\n",
       "      <th>2</th>\n",
       "      <td>1.594512e+09</td>\n",
       "      <td>b8:27:eb:bf:9d:51</td>\n",
       "      <td>0.004976</td>\n",
       "      <td>50.900000</td>\n",
       "      <td>False</td>\n",
       "      <td>0.007673</td>\n",
       "      <td>False</td>\n",
       "      <td>0.020475</td>\n",
       "      <td>22.600000</td>\n",
       "    </tr>\n",
       "    <tr>\n",
       "      <th>3</th>\n",
       "      <td>1.594512e+09</td>\n",
       "      <td>1c:bf:ce:15:ec:4d</td>\n",
       "      <td>0.004403</td>\n",
       "      <td>76.800003</td>\n",
       "      <td>True</td>\n",
       "      <td>0.007023</td>\n",
       "      <td>False</td>\n",
       "      <td>0.018628</td>\n",
       "      <td>27.000000</td>\n",
       "    </tr>\n",
       "    <tr>\n",
       "      <th>4</th>\n",
       "      <td>1.594512e+09</td>\n",
       "      <td>b8:27:eb:bf:9d:51</td>\n",
       "      <td>0.004967</td>\n",
       "      <td>50.900000</td>\n",
       "      <td>False</td>\n",
       "      <td>0.007664</td>\n",
       "      <td>False</td>\n",
       "      <td>0.020448</td>\n",
       "      <td>22.600000</td>\n",
       "    </tr>\n",
       "    <tr>\n",
       "      <th>5</th>\n",
       "      <td>1.594512e+09</td>\n",
       "      <td>1c:bf:ce:15:ec:4d</td>\n",
       "      <td>0.004391</td>\n",
       "      <td>77.900002</td>\n",
       "      <td>True</td>\n",
       "      <td>0.007009</td>\n",
       "      <td>False</td>\n",
       "      <td>0.018589</td>\n",
       "      <td>27.000000</td>\n",
       "    </tr>\n",
       "    <tr>\n",
       "      <th>6</th>\n",
       "      <td>1.594512e+09</td>\n",
       "      <td>b8:27:eb:bf:9d:51</td>\n",
       "      <td>0.004976</td>\n",
       "      <td>50.900000</td>\n",
       "      <td>False</td>\n",
       "      <td>0.007673</td>\n",
       "      <td>False</td>\n",
       "      <td>0.020475</td>\n",
       "      <td>22.600000</td>\n",
       "    </tr>\n",
       "    <tr>\n",
       "      <th>7</th>\n",
       "      <td>1.594512e+09</td>\n",
       "      <td>00:0f:00:70:91:0a</td>\n",
       "      <td>0.002938</td>\n",
       "      <td>76.000000</td>\n",
       "      <td>False</td>\n",
       "      <td>0.005241</td>\n",
       "      <td>False</td>\n",
       "      <td>0.013628</td>\n",
       "      <td>19.700001</td>\n",
       "    </tr>\n",
       "    <tr>\n",
       "      <th>8</th>\n",
       "      <td>1.594512e+09</td>\n",
       "      <td>1c:bf:ce:15:ec:4d</td>\n",
       "      <td>0.004345</td>\n",
       "      <td>77.900002</td>\n",
       "      <td>True</td>\n",
       "      <td>0.006957</td>\n",
       "      <td>False</td>\n",
       "      <td>0.018440</td>\n",
       "      <td>27.000000</td>\n",
       "    </tr>\n",
       "    <tr>\n",
       "      <th>9</th>\n",
       "      <td>1.594512e+09</td>\n",
       "      <td>b8:27:eb:bf:9d:51</td>\n",
       "      <td>0.004970</td>\n",
       "      <td>50.900000</td>\n",
       "      <td>False</td>\n",
       "      <td>0.007667</td>\n",
       "      <td>False</td>\n",
       "      <td>0.020457</td>\n",
       "      <td>22.600000</td>\n",
       "    </tr>\n",
       "    <tr>\n",
       "      <th>10</th>\n",
       "      <td>1.594512e+09</td>\n",
       "      <td>b8:27:eb:bf:9d:51</td>\n",
       "      <td>0.004960</td>\n",
       "      <td>50.900000</td>\n",
       "      <td>False</td>\n",
       "      <td>0.007656</td>\n",
       "      <td>False</td>\n",
       "      <td>0.020425</td>\n",
       "      <td>22.600000</td>\n",
       "    </tr>\n",
       "    <tr>\n",
       "      <th>11</th>\n",
       "      <td>1.594512e+09</td>\n",
       "      <td>1c:bf:ce:15:ec:4d</td>\n",
       "      <td>0.004383</td>\n",
       "      <td>78.000000</td>\n",
       "      <td>True</td>\n",
       "      <td>0.007000</td>\n",
       "      <td>False</td>\n",
       "      <td>0.018563</td>\n",
       "      <td>27.000000</td>\n",
       "    </tr>\n",
       "    <tr>\n",
       "      <th>12</th>\n",
       "      <td>1.594512e+09</td>\n",
       "      <td>b8:27:eb:bf:9d:51</td>\n",
       "      <td>0.004972</td>\n",
       "      <td>50.900000</td>\n",
       "      <td>False</td>\n",
       "      <td>0.007668</td>\n",
       "      <td>False</td>\n",
       "      <td>0.020461</td>\n",
       "      <td>22.600000</td>\n",
       "    </tr>\n",
       "    <tr>\n",
       "      <th>13</th>\n",
       "      <td>1.594512e+09</td>\n",
       "      <td>1c:bf:ce:15:ec:4d</td>\n",
       "      <td>0.004451</td>\n",
       "      <td>78.000000</td>\n",
       "      <td>True</td>\n",
       "      <td>0.007079</td>\n",
       "      <td>False</td>\n",
       "      <td>0.018786</td>\n",
       "      <td>27.000000</td>\n",
       "    </tr>\n",
       "    <tr>\n",
       "      <th>14</th>\n",
       "      <td>1.594512e+09</td>\n",
       "      <td>b8:27:eb:bf:9d:51</td>\n",
       "      <td>0.004965</td>\n",
       "      <td>50.900000</td>\n",
       "      <td>False</td>\n",
       "      <td>0.007660</td>\n",
       "      <td>False</td>\n",
       "      <td>0.020439</td>\n",
       "      <td>22.600000</td>\n",
       "    </tr>\n",
       "  </tbody>\n",
       "</table>\n",
       "</div>"
      ],
      "text/plain": [
       "              ts             device        co   humidity  light       lpg  \\\n",
       "0   1.594512e+09  b8:27:eb:bf:9d:51  0.004956  51.000000  False  0.007651   \n",
       "1   1.594512e+09  00:0f:00:70:91:0a  0.002840  76.000000  False  0.005114   \n",
       "2   1.594512e+09  b8:27:eb:bf:9d:51  0.004976  50.900000  False  0.007673   \n",
       "3   1.594512e+09  1c:bf:ce:15:ec:4d  0.004403  76.800003   True  0.007023   \n",
       "4   1.594512e+09  b8:27:eb:bf:9d:51  0.004967  50.900000  False  0.007664   \n",
       "5   1.594512e+09  1c:bf:ce:15:ec:4d  0.004391  77.900002   True  0.007009   \n",
       "6   1.594512e+09  b8:27:eb:bf:9d:51  0.004976  50.900000  False  0.007673   \n",
       "7   1.594512e+09  00:0f:00:70:91:0a  0.002938  76.000000  False  0.005241   \n",
       "8   1.594512e+09  1c:bf:ce:15:ec:4d  0.004345  77.900002   True  0.006957   \n",
       "9   1.594512e+09  b8:27:eb:bf:9d:51  0.004970  50.900000  False  0.007667   \n",
       "10  1.594512e+09  b8:27:eb:bf:9d:51  0.004960  50.900000  False  0.007656   \n",
       "11  1.594512e+09  1c:bf:ce:15:ec:4d  0.004383  78.000000   True  0.007000   \n",
       "12  1.594512e+09  b8:27:eb:bf:9d:51  0.004972  50.900000  False  0.007668   \n",
       "13  1.594512e+09  1c:bf:ce:15:ec:4d  0.004451  78.000000   True  0.007079   \n",
       "14  1.594512e+09  b8:27:eb:bf:9d:51  0.004965  50.900000  False  0.007660   \n",
       "\n",
       "    motion     smoke       temp  \n",
       "0    False  0.020411  22.700000  \n",
       "1    False  0.013275  19.700001  \n",
       "2    False  0.020475  22.600000  \n",
       "3    False  0.018628  27.000000  \n",
       "4    False  0.020448  22.600000  \n",
       "5    False  0.018589  27.000000  \n",
       "6    False  0.020475  22.600000  \n",
       "7    False  0.013628  19.700001  \n",
       "8    False  0.018440  27.000000  \n",
       "9    False  0.020457  22.600000  \n",
       "10   False  0.020425  22.600000  \n",
       "11   False  0.018563  27.000000  \n",
       "12   False  0.020461  22.600000  \n",
       "13   False  0.018786  27.000000  \n",
       "14   False  0.020439  22.600000  "
      ]
     },
     "execution_count": 3,
     "metadata": {},
     "output_type": "execute_result"
    }
   ],
   "source": [
    "data.head(15)"
   ]
  },
  {
   "cell_type": "code",
   "execution_count": 4,
   "metadata": {},
   "outputs": [
    {
     "data": {
      "text/plain": [
       "array(['b8:27:eb:bf:9d:51', '00:0f:00:70:91:0a', '1c:bf:ce:15:ec:4d'],\n",
       "      dtype=object)"
      ]
     },
     "execution_count": 4,
     "metadata": {},
     "output_type": "execute_result"
    }
   ],
   "source": [
    "data['device'].unique()"
   ]
  },
  {
   "cell_type": "markdown",
   "metadata": {},
   "source": [
    "# 3) Preprocessing of Training data"
   ]
  },
  {
   "cell_type": "code",
   "execution_count": 5,
   "metadata": {},
   "outputs": [
    {
     "data": {
      "text/plain": [
       "array([2, 0, 2, ..., 1, 0, 2])"
      ]
     },
     "execution_count": 5,
     "metadata": {},
     "output_type": "execute_result"
    }
   ],
   "source": [
    "labelencoder = LabelEncoder()\n",
    "devices = labelencoder.fit_transform(data['device'])\n",
    "lights = labelencoder.fit_transform(data['light'])\n",
    "devices"
   ]
  },
  {
   "cell_type": "code",
   "execution_count": 6,
   "metadata": {},
   "outputs": [],
   "source": [
    "onehotencoder = OneHotEncoder()"
   ]
  },
  {
   "cell_type": "code",
   "execution_count": 7,
   "metadata": {},
   "outputs": [],
   "source": [
    "data['device'] = devices\n",
    "data['light'] = lights"
   ]
  },
  {
   "cell_type": "code",
   "execution_count": 8,
   "metadata": {},
   "outputs": [],
   "source": [
    "data.drop(['ts','motion'],axis=1,inplace=True)"
   ]
  },
  {
   "cell_type": "code",
   "execution_count": 9,
   "metadata": {},
   "outputs": [
    {
     "name": "stdout",
     "output_type": "stream",
     "text": [
      "<class 'pandas.core.frame.DataFrame'>\n",
      "RangeIndex: 405184 entries, 0 to 405183\n",
      "Data columns (total 7 columns):\n",
      " #   Column    Non-Null Count   Dtype  \n",
      "---  ------    --------------   -----  \n",
      " 0   device    405184 non-null  int32  \n",
      " 1   co        405184 non-null  float64\n",
      " 2   humidity  405184 non-null  float64\n",
      " 3   light     405184 non-null  int64  \n",
      " 4   lpg       405184 non-null  float64\n",
      " 5   smoke     405184 non-null  float64\n",
      " 6   temp      405184 non-null  float64\n",
      "dtypes: float64(5), int32(1), int64(1)\n",
      "memory usage: 20.1 MB\n"
     ]
    }
   ],
   "source": [
    "data.info()"
   ]
  },
  {
   "cell_type": "markdown",
   "metadata": {},
   "source": [
    "# 5) Data Visualization using Seaborn"
   ]
  },
  {
   "cell_type": "code",
   "execution_count": 10,
   "metadata": {},
   "outputs": [
    {
     "data": {
      "text/plain": [
       "<AxesSubplot:xlabel='co', ylabel='humidity'>"
      ]
     },
     "execution_count": 10,
     "metadata": {},
     "output_type": "execute_result"
    },
    {
     "data": {
      "image/png": "[encoded data removed]",
      "text/plain": [
       "<Figure size 1440x1080 with 1 Axes>"
      ]
     },
     "metadata": {
      "needs_background": "light"
     },
     "output_type": "display_data"
    }
   ],
   "source": [
    "plt.figure(figsize=(20,15))\n",
    "sns.barplot( 'co','humidity', data= data)"
   ]
  },
  {
   "cell_type": "code",
   "execution_count": 11,
   "metadata": {},
   "outputs": [
    {
     "data": {
      "text/plain": [
       "<AxesSubplot:xlabel='temp', ylabel='count'>"
      ]
     },
     "execution_count": 11,
     "metadata": {},
     "output_type": "execute_result"
    },
    {
     "data": {
      "image/png": "[encoded data removed]",
      "text/plain": [
       "<Figure size 432x288 with 1 Axes>"
      ]
     },
     "metadata": {
      "needs_background": "light"
     },
     "output_type": "display_data"
    }
   ],
   "source": [
    "sns.countplot('temp',data=data)"
   ]
  },
  {
   "cell_type": "code",
   "execution_count": 12,
   "metadata": {},
   "outputs": [
    {
     "data": {
      "text/plain": [
       "Text(0.5, 1.0, 'Ratio of temprature and smaoke')"
      ]
     },
     "execution_count": 12,
     "metadata": {},
     "output_type": "execute_result"
    },
    {
     "data": {
      "image/png": "[encoded data removed]",
      "text/plain": [
       "<Figure size 1728x432 with 2 Axes>"
      ]
     },
     "metadata": {
      "needs_background": "light"
     },
     "output_type": "display_data"
    }
   ],
   "source": [
    "fig, ax =plt.subplots(1,2,figsize=(24, 6))\n",
    "sns.barplot('lpg','smoke',ax=ax[0],data=data.sort_values(by='lpg',ascending=False).head(10)).set_title('Ratio of LPG and Smoke')\n",
    "sns.barplot('smoke','temp',ax=ax[1],data=data.sort_values(by='smoke',ascending=False).head(10)).set_title('Ratio of temprature and smaoke')"
   ]
  },
  {
   "cell_type": "code",
   "execution_count": 13,
   "metadata": {},
   "outputs": [
    {
     "data": {
      "image/png": "[encoded data removed]",
      "text/plain": [
       "<Figure size 432x288 with 1 Axes>"
      ]
     },
     "metadata": {},
     "output_type": "display_data"
    }
   ],
   "source": [
    "activities=['co','humidity','lpg','smoke','temp']\n",
    "slice=[3,7,8,6,2]\n",
    "color=['r', 'g', 'm', 'b','c']\n",
    "plt.pie(slice, labels=activities, colors=color, startangle=90,shadow=True, \n",
    "       explode=(0.2,0,0,0,0),autopct='%1.2f%%')\n",
    "plt.legend(bbox_to_anchor =(0.85, 1.20), ncol = 2)\n",
    "plt.show()"
   ]
  },
  {
   "cell_type": "code",
   "execution_count": 33,
   "metadata": {},
   "outputs": [
    {
     "data": {
      "image/png": "[encoded data removed]",
      "text/plain": [
       "<Figure size 432x288 with 1 Axes>"
      ]
     },
     "metadata": {
      "needs_background": "light"
     },
     "output_type": "display_data"
    }
   ],
   "source": [
    "fig = plt.figure()\n",
    "ax = fig.gca(projection='3d')\n",
    "ax.plot_trisurf(data['temp'], data['co'], data['smoke'], cmap = plt.cm.twilight_shifted)\n",
    "plt.title('Relation between Carbon di oxide levels, Smoke and Temperature.')\n",
    "plt.xlabel('co')\n",
    "plt.ylabel('smoke')\n",
    "plt.show()"
   ]
  },
  {
   "cell_type": "code",
   "execution_count": 17,
   "metadata": {},
   "outputs": [
    {
     "data": {
      "text/html": [
       "<div>\n",
       "<style scoped>\n",
       "    .dataframe tbody tr th:only-of-type {\n",
       "        vertical-align: middle;\n",
       "    }\n",
       "\n",
       "    .dataframe tbody tr th {\n",
       "        vertical-align: top;\n",
       "    }\n",
       "\n",
       "    .dataframe thead th {\n",
       "        text-align: right;\n",
       "    }\n",
       "</style>\n",
       "<table border=\"1\" class=\"dataframe\">\n",
       "  <thead>\n",
       "    <tr style=\"text-align: right;\">\n",
       "      <th></th>\n",
       "      <th>device</th>\n",
       "      <th>co</th>\n",
       "      <th>humidity</th>\n",
       "      <th>light</th>\n",
       "      <th>lpg</th>\n",
       "      <th>smoke</th>\n",
       "      <th>temp</th>\n",
       "    </tr>\n",
       "  </thead>\n",
       "  <tbody>\n",
       "    <tr>\n",
       "      <th>0</th>\n",
       "      <td>2</td>\n",
       "      <td>0.004956</td>\n",
       "      <td>51.000000</td>\n",
       "      <td>0</td>\n",
       "      <td>0.007651</td>\n",
       "      <td>0.020411</td>\n",
       "      <td>22.700000</td>\n",
       "    </tr>\n",
       "    <tr>\n",
       "      <th>1</th>\n",
       "      <td>0</td>\n",
       "      <td>0.002840</td>\n",
       "      <td>76.000000</td>\n",
       "      <td>0</td>\n",
       "      <td>0.005114</td>\n",
       "      <td>0.013275</td>\n",
       "      <td>19.700001</td>\n",
       "    </tr>\n",
       "    <tr>\n",
       "      <th>2</th>\n",
       "      <td>2</td>\n",
       "      <td>0.004976</td>\n",
       "      <td>50.900000</td>\n",
       "      <td>0</td>\n",
       "      <td>0.007673</td>\n",
       "      <td>0.020475</td>\n",
       "      <td>22.600000</td>\n",
       "    </tr>\n",
       "    <tr>\n",
       "      <th>3</th>\n",
       "      <td>1</td>\n",
       "      <td>0.004403</td>\n",
       "      <td>76.800003</td>\n",
       "      <td>1</td>\n",
       "      <td>0.007023</td>\n",
       "      <td>0.018628</td>\n",
       "      <td>27.000000</td>\n",
       "    </tr>\n",
       "    <tr>\n",
       "      <th>4</th>\n",
       "      <td>2</td>\n",
       "      <td>0.004967</td>\n",
       "      <td>50.900000</td>\n",
       "      <td>0</td>\n",
       "      <td>0.007664</td>\n",
       "      <td>0.020448</td>\n",
       "      <td>22.600000</td>\n",
       "    </tr>\n",
       "    <tr>\n",
       "      <th>5</th>\n",
       "      <td>1</td>\n",
       "      <td>0.004391</td>\n",
       "      <td>77.900002</td>\n",
       "      <td>1</td>\n",
       "      <td>0.007009</td>\n",
       "      <td>0.018589</td>\n",
       "      <td>27.000000</td>\n",
       "    </tr>\n",
       "    <tr>\n",
       "      <th>6</th>\n",
       "      <td>2</td>\n",
       "      <td>0.004976</td>\n",
       "      <td>50.900000</td>\n",
       "      <td>0</td>\n",
       "      <td>0.007673</td>\n",
       "      <td>0.020475</td>\n",
       "      <td>22.600000</td>\n",
       "    </tr>\n",
       "    <tr>\n",
       "      <th>7</th>\n",
       "      <td>0</td>\n",
       "      <td>0.002938</td>\n",
       "      <td>76.000000</td>\n",
       "      <td>0</td>\n",
       "      <td>0.005241</td>\n",
       "      <td>0.013628</td>\n",
       "      <td>19.700001</td>\n",
       "    </tr>\n",
       "    <tr>\n",
       "      <th>8</th>\n",
       "      <td>1</td>\n",
       "      <td>0.004345</td>\n",
       "      <td>77.900002</td>\n",
       "      <td>1</td>\n",
       "      <td>0.006957</td>\n",
       "      <td>0.018440</td>\n",
       "      <td>27.000000</td>\n",
       "    </tr>\n",
       "    <tr>\n",
       "      <th>9</th>\n",
       "      <td>2</td>\n",
       "      <td>0.004970</td>\n",
       "      <td>50.900000</td>\n",
       "      <td>0</td>\n",
       "      <td>0.007667</td>\n",
       "      <td>0.020457</td>\n",
       "      <td>22.600000</td>\n",
       "    </tr>\n",
       "    <tr>\n",
       "      <th>10</th>\n",
       "      <td>2</td>\n",
       "      <td>0.004960</td>\n",
       "      <td>50.900000</td>\n",
       "      <td>0</td>\n",
       "      <td>0.007656</td>\n",
       "      <td>0.020425</td>\n",
       "      <td>22.600000</td>\n",
       "    </tr>\n",
       "    <tr>\n",
       "      <th>11</th>\n",
       "      <td>1</td>\n",
       "      <td>0.004383</td>\n",
       "      <td>78.000000</td>\n",
       "      <td>1</td>\n",
       "      <td>0.007000</td>\n",
       "      <td>0.018563</td>\n",
       "      <td>27.000000</td>\n",
       "    </tr>\n",
       "  </tbody>\n",
       "</table>\n",
       "</div>"
      ],
      "text/plain": [
       "    device        co   humidity  light       lpg     smoke       temp\n",
       "0        2  0.004956  51.000000      0  0.007651  0.020411  22.700000\n",
       "1        0  0.002840  76.000000      0  0.005114  0.013275  19.700001\n",
       "2        2  0.004976  50.900000      0  0.007673  0.020475  22.600000\n",
       "3        1  0.004403  76.800003      1  0.007023  0.018628  27.000000\n",
       "4        2  0.004967  50.900000      0  0.007664  0.020448  22.600000\n",
       "5        1  0.004391  77.900002      1  0.007009  0.018589  27.000000\n",
       "6        2  0.004976  50.900000      0  0.007673  0.020475  22.600000\n",
       "7        0  0.002938  76.000000      0  0.005241  0.013628  19.700001\n",
       "8        1  0.004345  77.900002      1  0.006957  0.018440  27.000000\n",
       "9        2  0.004970  50.900000      0  0.007667  0.020457  22.600000\n",
       "10       2  0.004960  50.900000      0  0.007656  0.020425  22.600000\n",
       "11       1  0.004383  78.000000      1  0.007000  0.018563  27.000000"
      ]
     },
     "execution_count": 17,
     "metadata": {},
     "output_type": "execute_result"
    }
   ],
   "source": [
    "data.head(12)"
   ]
  },
  {
   "cell_type": "markdown",
   "metadata": {},
   "source": [
    "# 6) Model Defining using Logistic Regression"
   ]
  },
  {
   "cell_type": "code",
   "execution_count": 18,
   "metadata": {},
   "outputs": [],
   "source": [
    "logi = LogisticRegression()"
   ]
  },
  {
   "cell_type": "code",
   "execution_count": 19,
   "metadata": {},
   "outputs": [],
   "source": [
    "X = data.drop(['light'],axis=1)\n",
    "y = data[['light']].values"
   ]
  },
  {
   "cell_type": "code",
   "execution_count": 20,
   "metadata": {},
   "outputs": [
    {
     "data": {
      "text/html": [
       "<div>\n",
       "<style scoped>\n",
       "    .dataframe tbody tr th:only-of-type {\n",
       "        vertical-align: middle;\n",
       "    }\n",
       "\n",
       "    .dataframe tbody tr th {\n",
       "        vertical-align: top;\n",
       "    }\n",
       "\n",
       "    .dataframe thead th {\n",
       "        text-align: right;\n",
       "    }\n",
       "</style>\n",
       "<table border=\"1\" class=\"dataframe\">\n",
       "  <thead>\n",
       "    <tr style=\"text-align: right;\">\n",
       "      <th></th>\n",
       "      <th>device</th>\n",
       "      <th>co</th>\n",
       "      <th>humidity</th>\n",
       "      <th>lpg</th>\n",
       "      <th>smoke</th>\n",
       "      <th>temp</th>\n",
       "    </tr>\n",
       "  </thead>\n",
       "  <tbody>\n",
       "    <tr>\n",
       "      <th>0</th>\n",
       "      <td>2</td>\n",
       "      <td>0.004956</td>\n",
       "      <td>51.000000</td>\n",
       "      <td>0.007651</td>\n",
       "      <td>0.020411</td>\n",
       "      <td>22.700000</td>\n",
       "    </tr>\n",
       "    <tr>\n",
       "      <th>1</th>\n",
       "      <td>0</td>\n",
       "      <td>0.002840</td>\n",
       "      <td>76.000000</td>\n",
       "      <td>0.005114</td>\n",
       "      <td>0.013275</td>\n",
       "      <td>19.700001</td>\n",
       "    </tr>\n",
       "    <tr>\n",
       "      <th>2</th>\n",
       "      <td>2</td>\n",
       "      <td>0.004976</td>\n",
       "      <td>50.900000</td>\n",
       "      <td>0.007673</td>\n",
       "      <td>0.020475</td>\n",
       "      <td>22.600000</td>\n",
       "    </tr>\n",
       "    <tr>\n",
       "      <th>3</th>\n",
       "      <td>1</td>\n",
       "      <td>0.004403</td>\n",
       "      <td>76.800003</td>\n",
       "      <td>0.007023</td>\n",
       "      <td>0.018628</td>\n",
       "      <td>27.000000</td>\n",
       "    </tr>\n",
       "    <tr>\n",
       "      <th>4</th>\n",
       "      <td>2</td>\n",
       "      <td>0.004967</td>\n",
       "      <td>50.900000</td>\n",
       "      <td>0.007664</td>\n",
       "      <td>0.020448</td>\n",
       "      <td>22.600000</td>\n",
       "    </tr>\n",
       "    <tr>\n",
       "      <th>...</th>\n",
       "      <td>...</td>\n",
       "      <td>...</td>\n",
       "      <td>...</td>\n",
       "      <td>...</td>\n",
       "      <td>...</td>\n",
       "      <td>...</td>\n",
       "    </tr>\n",
       "    <tr>\n",
       "      <th>405179</th>\n",
       "      <td>0</td>\n",
       "      <td>0.003745</td>\n",
       "      <td>75.300003</td>\n",
       "      <td>0.006247</td>\n",
       "      <td>0.016437</td>\n",
       "      <td>19.200001</td>\n",
       "    </tr>\n",
       "    <tr>\n",
       "      <th>405180</th>\n",
       "      <td>2</td>\n",
       "      <td>0.005882</td>\n",
       "      <td>48.500000</td>\n",
       "      <td>0.008660</td>\n",
       "      <td>0.023301</td>\n",
       "      <td>22.200000</td>\n",
       "    </tr>\n",
       "    <tr>\n",
       "      <th>405181</th>\n",
       "      <td>1</td>\n",
       "      <td>0.004540</td>\n",
       "      <td>75.699997</td>\n",
       "      <td>0.007181</td>\n",
       "      <td>0.019076</td>\n",
       "      <td>26.600000</td>\n",
       "    </tr>\n",
       "    <tr>\n",
       "      <th>405182</th>\n",
       "      <td>0</td>\n",
       "      <td>0.003745</td>\n",
       "      <td>75.300003</td>\n",
       "      <td>0.006247</td>\n",
       "      <td>0.016437</td>\n",
       "      <td>19.200001</td>\n",
       "    </tr>\n",
       "    <tr>\n",
       "      <th>405183</th>\n",
       "      <td>2</td>\n",
       "      <td>0.005914</td>\n",
       "      <td>48.400000</td>\n",
       "      <td>0.008695</td>\n",
       "      <td>0.023400</td>\n",
       "      <td>22.200000</td>\n",
       "    </tr>\n",
       "  </tbody>\n",
       "</table>\n",
       "<p>405184 rows × 6 columns</p>\n",
       "</div>"
      ],
      "text/plain": [
       "        device        co   humidity       lpg     smoke       temp\n",
       "0            2  0.004956  51.000000  0.007651  0.020411  22.700000\n",
       "1            0  0.002840  76.000000  0.005114  0.013275  19.700001\n",
       "2            2  0.004976  50.900000  0.007673  0.020475  22.600000\n",
       "3            1  0.004403  76.800003  0.007023  0.018628  27.000000\n",
       "4            2  0.004967  50.900000  0.007664  0.020448  22.600000\n",
       "...        ...       ...        ...       ...       ...        ...\n",
       "405179       0  0.003745  75.300003  0.006247  0.016437  19.200001\n",
       "405180       2  0.005882  48.500000  0.008660  0.023301  22.200000\n",
       "405181       1  0.004540  75.699997  0.007181  0.019076  26.600000\n",
       "405182       0  0.003745  75.300003  0.006247  0.016437  19.200001\n",
       "405183       2  0.005914  48.400000  0.008695  0.023400  22.200000\n",
       "\n",
       "[405184 rows x 6 columns]"
      ]
     },
     "execution_count": 20,
     "metadata": {},
     "output_type": "execute_result"
    }
   ],
   "source": [
    "X"
   ]
  },
  {
   "cell_type": "code",
   "execution_count": 21,
   "metadata": {},
   "outputs": [
    {
     "data": {
      "text/plain": [
       "array([[0],\n",
       "       [0],\n",
       "       [0],\n",
       "       ...,\n",
       "       [1],\n",
       "       [0],\n",
       "       [0]], dtype=int64)"
      ]
     },
     "execution_count": 21,
     "metadata": {},
     "output_type": "execute_result"
    }
   ],
   "source": [
    "y"
   ]
  },
  {
   "cell_type": "markdown",
   "metadata": {},
   "source": [
    "# 7) Spliting data into input and label/output/target"
   ]
  },
  {
   "cell_type": "code",
   "execution_count": 22,
   "metadata": {},
   "outputs": [],
   "source": [
    "X_train,X_test,y_train,y_test = train_test_split(X,y,test_size=0.20,random_state=14)"
   ]
  },
  {
   "cell_type": "code",
   "execution_count": 23,
   "metadata": {},
   "outputs": [
    {
     "data": {
      "text/html": [
       "<div>\n",
       "<style scoped>\n",
       "    .dataframe tbody tr th:only-of-type {\n",
       "        vertical-align: middle;\n",
       "    }\n",
       "\n",
       "    .dataframe tbody tr th {\n",
       "        vertical-align: top;\n",
       "    }\n",
       "\n",
       "    .dataframe thead th {\n",
       "        text-align: right;\n",
       "    }\n",
       "</style>\n",
       "<table border=\"1\" class=\"dataframe\">\n",
       "  <thead>\n",
       "    <tr style=\"text-align: right;\">\n",
       "      <th></th>\n",
       "      <th>device</th>\n",
       "      <th>co</th>\n",
       "      <th>humidity</th>\n",
       "      <th>lpg</th>\n",
       "      <th>smoke</th>\n",
       "      <th>temp</th>\n",
       "    </tr>\n",
       "  </thead>\n",
       "  <tbody>\n",
       "    <tr>\n",
       "      <th>29294</th>\n",
       "      <td>1</td>\n",
       "      <td>0.003958</td>\n",
       "      <td>70.000000</td>\n",
       "      <td>0.006502</td>\n",
       "      <td>0.017155</td>\n",
       "      <td>25.400000</td>\n",
       "    </tr>\n",
       "    <tr>\n",
       "      <th>159213</th>\n",
       "      <td>1</td>\n",
       "      <td>0.004245</td>\n",
       "      <td>53.099998</td>\n",
       "      <td>0.006840</td>\n",
       "      <td>0.018110</td>\n",
       "      <td>26.700001</td>\n",
       "    </tr>\n",
       "    <tr>\n",
       "      <th>70724</th>\n",
       "      <td>2</td>\n",
       "      <td>0.005126</td>\n",
       "      <td>51.600000</td>\n",
       "      <td>0.007840</td>\n",
       "      <td>0.020950</td>\n",
       "      <td>21.400000</td>\n",
       "    </tr>\n",
       "    <tr>\n",
       "      <th>102113</th>\n",
       "      <td>0</td>\n",
       "      <td>0.004065</td>\n",
       "      <td>74.699997</td>\n",
       "      <td>0.006629</td>\n",
       "      <td>0.017515</td>\n",
       "      <td>19.299999</td>\n",
       "    </tr>\n",
       "    <tr>\n",
       "      <th>277167</th>\n",
       "      <td>2</td>\n",
       "      <td>0.005884</td>\n",
       "      <td>53.300000</td>\n",
       "      <td>0.008662</td>\n",
       "      <td>0.023307</td>\n",
       "      <td>22.200000</td>\n",
       "    </tr>\n",
       "    <tr>\n",
       "      <th>...</th>\n",
       "      <td>...</td>\n",
       "      <td>...</td>\n",
       "      <td>...</td>\n",
       "      <td>...</td>\n",
       "      <td>...</td>\n",
       "      <td>...</td>\n",
       "    </tr>\n",
       "    <tr>\n",
       "      <th>284999</th>\n",
       "      <td>0</td>\n",
       "      <td>0.001505</td>\n",
       "      <td>77.800003</td>\n",
       "      <td>0.003231</td>\n",
       "      <td>0.008129</td>\n",
       "      <td>19.299999</td>\n",
       "    </tr>\n",
       "    <tr>\n",
       "      <th>117142</th>\n",
       "      <td>1</td>\n",
       "      <td>0.004713</td>\n",
       "      <td>59.299999</td>\n",
       "      <td>0.007378</td>\n",
       "      <td>0.019635</td>\n",
       "      <td>23.299999</td>\n",
       "    </tr>\n",
       "    <tr>\n",
       "      <th>402700</th>\n",
       "      <td>0</td>\n",
       "      <td>0.003700</td>\n",
       "      <td>75.500000</td>\n",
       "      <td>0.006193</td>\n",
       "      <td>0.016285</td>\n",
       "      <td>19.200001</td>\n",
       "    </tr>\n",
       "    <tr>\n",
       "      <th>79192</th>\n",
       "      <td>0</td>\n",
       "      <td>0.003848</td>\n",
       "      <td>74.800003</td>\n",
       "      <td>0.006371</td>\n",
       "      <td>0.016786</td>\n",
       "      <td>19.400000</td>\n",
       "    </tr>\n",
       "    <tr>\n",
       "      <th>117355</th>\n",
       "      <td>1</td>\n",
       "      <td>0.004460</td>\n",
       "      <td>59.299999</td>\n",
       "      <td>0.007089</td>\n",
       "      <td>0.018813</td>\n",
       "      <td>23.200001</td>\n",
       "    </tr>\n",
       "  </tbody>\n",
       "</table>\n",
       "<p>324147 rows × 6 columns</p>\n",
       "</div>"
      ],
      "text/plain": [
       "        device        co   humidity       lpg     smoke       temp\n",
       "29294        1  0.003958  70.000000  0.006502  0.017155  25.400000\n",
       "159213       1  0.004245  53.099998  0.006840  0.018110  26.700001\n",
       "70724        2  0.005126  51.600000  0.007840  0.020950  21.400000\n",
       "102113       0  0.004065  74.699997  0.006629  0.017515  19.299999\n",
       "277167       2  0.005884  53.300000  0.008662  0.023307  22.200000\n",
       "...        ...       ...        ...       ...       ...        ...\n",
       "284999       0  0.001505  77.800003  0.003231  0.008129  19.299999\n",
       "117142       1  0.004713  59.299999  0.007378  0.019635  23.299999\n",
       "402700       0  0.003700  75.500000  0.006193  0.016285  19.200001\n",
       "79192        0  0.003848  74.800003  0.006371  0.016786  19.400000\n",
       "117355       1  0.004460  59.299999  0.007089  0.018813  23.200001\n",
       "\n",
       "[324147 rows x 6 columns]"
      ]
     },
     "execution_count": 23,
     "metadata": {},
     "output_type": "execute_result"
    }
   ],
   "source": [
    "X_train"
   ]
  },
  {
   "cell_type": "code",
   "execution_count": 24,
   "metadata": {},
   "outputs": [
    {
     "data": {
      "text/plain": [
       "array([[1],\n",
       "       [1],\n",
       "       [0],\n",
       "       ...,\n",
       "       [0],\n",
       "       [0],\n",
       "       [1]], dtype=int64)"
      ]
     },
     "execution_count": 24,
     "metadata": {},
     "output_type": "execute_result"
    }
   ],
   "source": [
    "y_train"
   ]
  },
  {
   "cell_type": "code",
   "execution_count": 25,
   "metadata": {},
   "outputs": [
    {
     "data": {
      "text/html": [
       "<div>\n",
       "<style scoped>\n",
       "    .dataframe tbody tr th:only-of-type {\n",
       "        vertical-align: middle;\n",
       "    }\n",
       "\n",
       "    .dataframe tbody tr th {\n",
       "        vertical-align: top;\n",
       "    }\n",
       "\n",
       "    .dataframe thead th {\n",
       "        text-align: right;\n",
       "    }\n",
       "</style>\n",
       "<table border=\"1\" class=\"dataframe\">\n",
       "  <thead>\n",
       "    <tr style=\"text-align: right;\">\n",
       "      <th></th>\n",
       "      <th>device</th>\n",
       "      <th>co</th>\n",
       "      <th>humidity</th>\n",
       "      <th>lpg</th>\n",
       "      <th>smoke</th>\n",
       "      <th>temp</th>\n",
       "    </tr>\n",
       "  </thead>\n",
       "  <tbody>\n",
       "    <tr>\n",
       "      <th>326254</th>\n",
       "      <td>0</td>\n",
       "      <td>0.003049</td>\n",
       "      <td>78.099998</td>\n",
       "      <td>0.005384</td>\n",
       "      <td>0.014023</td>\n",
       "      <td>20.100000</td>\n",
       "    </tr>\n",
       "    <tr>\n",
       "      <th>372784</th>\n",
       "      <td>2</td>\n",
       "      <td>0.005733</td>\n",
       "      <td>48.500000</td>\n",
       "      <td>0.008501</td>\n",
       "      <td>0.022842</td>\n",
       "      <td>21.700000</td>\n",
       "    </tr>\n",
       "    <tr>\n",
       "      <th>242185</th>\n",
       "      <td>1</td>\n",
       "      <td>0.003670</td>\n",
       "      <td>62.799999</td>\n",
       "      <td>0.006157</td>\n",
       "      <td>0.016184</td>\n",
       "      <td>26.299999</td>\n",
       "    </tr>\n",
       "    <tr>\n",
       "      <th>219185</th>\n",
       "      <td>1</td>\n",
       "      <td>0.003914</td>\n",
       "      <td>55.700001</td>\n",
       "      <td>0.006450</td>\n",
       "      <td>0.017008</td>\n",
       "      <td>25.400000</td>\n",
       "    </tr>\n",
       "    <tr>\n",
       "      <th>369035</th>\n",
       "      <td>1</td>\n",
       "      <td>0.004334</td>\n",
       "      <td>57.099998</td>\n",
       "      <td>0.006943</td>\n",
       "      <td>0.018401</td>\n",
       "      <td>27.000000</td>\n",
       "    </tr>\n",
       "    <tr>\n",
       "      <th>...</th>\n",
       "      <td>...</td>\n",
       "      <td>...</td>\n",
       "      <td>...</td>\n",
       "      <td>...</td>\n",
       "      <td>...</td>\n",
       "      <td>...</td>\n",
       "    </tr>\n",
       "    <tr>\n",
       "      <th>200477</th>\n",
       "      <td>0</td>\n",
       "      <td>0.008437</td>\n",
       "      <td>73.400002</td>\n",
       "      <td>0.011243</td>\n",
       "      <td>0.030792</td>\n",
       "      <td>18.600000</td>\n",
       "    </tr>\n",
       "    <tr>\n",
       "      <th>315907</th>\n",
       "      <td>0</td>\n",
       "      <td>0.003465</td>\n",
       "      <td>76.000000</td>\n",
       "      <td>0.005906</td>\n",
       "      <td>0.015481</td>\n",
       "      <td>19.600000</td>\n",
       "    </tr>\n",
       "    <tr>\n",
       "      <th>299622</th>\n",
       "      <td>2</td>\n",
       "      <td>0.006519</td>\n",
       "      <td>48.900000</td>\n",
       "      <td>0.009329</td>\n",
       "      <td>0.025227</td>\n",
       "      <td>22.300000</td>\n",
       "    </tr>\n",
       "    <tr>\n",
       "      <th>218690</th>\n",
       "      <td>2</td>\n",
       "      <td>0.006609</td>\n",
       "      <td>48.400000</td>\n",
       "      <td>0.009422</td>\n",
       "      <td>0.025495</td>\n",
       "      <td>22.500000</td>\n",
       "    </tr>\n",
       "    <tr>\n",
       "      <th>222895</th>\n",
       "      <td>1</td>\n",
       "      <td>0.003892</td>\n",
       "      <td>55.500000</td>\n",
       "      <td>0.006424</td>\n",
       "      <td>0.016935</td>\n",
       "      <td>24.799999</td>\n",
       "    </tr>\n",
       "  </tbody>\n",
       "</table>\n",
       "<p>81037 rows × 6 columns</p>\n",
       "</div>"
      ],
      "text/plain": [
       "        device        co   humidity       lpg     smoke       temp\n",
       "326254       0  0.003049  78.099998  0.005384  0.014023  20.100000\n",
       "372784       2  0.005733  48.500000  0.008501  0.022842  21.700000\n",
       "242185       1  0.003670  62.799999  0.006157  0.016184  26.299999\n",
       "219185       1  0.003914  55.700001  0.006450  0.017008  25.400000\n",
       "369035       1  0.004334  57.099998  0.006943  0.018401  27.000000\n",
       "...        ...       ...        ...       ...       ...        ...\n",
       "200477       0  0.008437  73.400002  0.011243  0.030792  18.600000\n",
       "315907       0  0.003465  76.000000  0.005906  0.015481  19.600000\n",
       "299622       2  0.006519  48.900000  0.009329  0.025227  22.300000\n",
       "218690       2  0.006609  48.400000  0.009422  0.025495  22.500000\n",
       "222895       1  0.003892  55.500000  0.006424  0.016935  24.799999\n",
       "\n",
       "[81037 rows x 6 columns]"
      ]
     },
     "execution_count": 25,
     "metadata": {},
     "output_type": "execute_result"
    }
   ],
   "source": [
    "X_test"
   ]
  },
  {
   "cell_type": "code",
   "execution_count": 26,
   "metadata": {},
   "outputs": [
    {
     "data": {
      "text/plain": [
       "array([[0],\n",
       "       [0],\n",
       "       [1],\n",
       "       ...,\n",
       "       [0],\n",
       "       [0],\n",
       "       [1]], dtype=int64)"
      ]
     },
     "execution_count": 26,
     "metadata": {},
     "output_type": "execute_result"
    }
   ],
   "source": [
    "y_test"
   ]
  },
  {
   "cell_type": "code",
   "execution_count": 27,
   "metadata": {},
   "outputs": [
    {
     "name": "stderr",
     "output_type": "stream",
     "text": [
      "C:\\Program Files\\Python37\\lib\\site-packages\\sklearn\\utils\\validation.py:73: DataConversionWarning: A column-vector y was passed when a 1d array was expected. Please change the shape of y to (n_samples, ), for example using ravel().\n",
      "  return f(**kwargs)\n"
     ]
    }
   ],
   "source": [
    "Rudy=logi.fit(X_train,y_train) "
   ]
  },
  {
   "cell_type": "markdown",
   "metadata": {},
   "source": [
    "# 8) Final Prediction of Model"
   ]
  },
  {
   "cell_type": "code",
   "execution_count": 28,
   "metadata": {},
   "outputs": [],
   "source": [
    "predict=logi.predict(X_test)"
   ]
  },
  {
   "cell_type": "code",
   "execution_count": 29,
   "metadata": {},
   "outputs": [
    {
     "data": {
      "text/plain": [
       "array([0, 0, 1, ..., 0, 0, 1], dtype=int64)"
      ]
     },
     "execution_count": 29,
     "metadata": {},
     "output_type": "execute_result"
    }
   ],
   "source": [
    "predict"
   ]
  },
  {
   "cell_type": "code",
   "execution_count": 30,
   "metadata": {},
   "outputs": [
    {
     "data": {
      "text/plain": [
       "0.9831188222663721"
      ]
     },
     "execution_count": 30,
     "metadata": {},
     "output_type": "execute_result"
    }
   ],
   "source": [
    "score = accuracy_score(y_test, predict)\n",
    "\n",
    "score"
   ]
  },
  {
   "cell_type": "code",
   "execution_count": 31,
   "metadata": {},
   "outputs": [
    {
     "data": {
      "text/plain": [
       "Text(0.5, 15.0, 'Predicted label')"
      ]
     },
     "execution_count": 31,
     "metadata": {},
     "output_type": "execute_result"
    },
    {
     "data": {
      "image/png": "[encoded data removed]",
      "text/plain": [
       "<Figure size 432x288 with 2 Axes>"
      ]
     },
     "metadata": {
      "needs_background": "light"
     },
     "output_type": "display_data"
    }
   ],
   "source": [
    "cm = confusion_matrix(y_test, predict)\n",
    "sns.heatmap(cm, annot=True, cmap=\"winter\" ,fmt='g')\n",
    "plt.tight_layout()\n",
    "plt.title('Confusion matrix')\n",
    "plt.ylabel('Actual label')\n",
    "plt.xlabel('Predicted label')"
   ]
  }
 ],
 "metadata": {
  "kernelspec": {
   "display_name": "Python 3",
   "language": "python",
   "name": "python3"
  },
  "language_info": {
   "codemirror_mode": {
    "name": "ipython",
    "version": 3
   },
   "file_extension": ".py",
   "mimetype": "text/x-python",
   "name": "python",
   "nbconvert_exporter": "python",
   "pygments_lexer": "ipython3",
   "version": "3.7.6"
  }
 },
 "nbformat": 4,
 "nbformat_minor": 4
}
